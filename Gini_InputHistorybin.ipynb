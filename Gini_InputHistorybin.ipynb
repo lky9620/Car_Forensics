{
 "cells": [
  {
   "cell_type": "markdown",
   "metadata": {},
   "source": [
    "# Gini 네비게이션의 InputHistory.bin파일 분석"
   ]
  },
  {
   "cell_type": "markdown",
   "metadata": {},
   "source": [
    "+ Gini 네비게이션에서 통합검색 기능을 사용한 사용자의 검색 기록이 저장되는 InputHistory.bin 파일을 분석함.\n",
    "+ InputHistroy 파일은 UserData에 존재."
   ]
  },
  {
   "cell_type": "code",
   "execution_count": 70,
   "metadata": {},
   "outputs": [],
   "source": [
    "import struct\n",
    "import time"
   ]
  },
  {
   "cell_type": "code",
   "execution_count": 122,
   "metadata": {},
   "outputs": [],
   "source": [
    "Last_Data = open('C:/Users/LEEKEONYONG/Desktop/navigation_backup/UserData/InputHistory.bin', 'rb')\n",
    "data = Last_Data.read()\n",
    "Last_Data.close()"
   ]
  },
  {
   "cell_type": "markdown",
   "metadata": {},
   "source": [
    "### 메소드 설명\n",
    "+ Gini 네비게이션 상의 InputHistory.bin 파일의 데이터 분석을 위한 함수 정의\n",
    "+ 인용한 논문에 따르면, offset 0부터 5바이트는 헤더, 8부터 1바이트는 삭제된 데이터를 제외한 개수, 11부터 1byte는 총 데이터 개수, 12부터 1바이트는 데이터 순서, 16부터 4바이트는 입력시간, 57부터 1바이트는 검색한 장소의 문자수, 58부터 57의 내용만큼의 바이트는 검색한 장소의 이름을 표현함\n",
    " + 입력 시간을 가리키는 "
   ]
  },
  {
   "cell_type": "code",
   "execution_count": 127,
   "metadata": {},
   "outputs": [],
   "source": [
    "def GiniInputHistorybin(data):\n",
    "    Search_Data = []\n",
    "    Offset_in_InputHistorybin = 108\n",
    "    Data_Except_Removed = data[8]\n",
    "    Data_All = data[11]\n",
    "    \n",
    "    for i in range(16,Offset_in_InputHistorybin*data[11],Offset_in_InputHistorybin):\n",
    "        Search_Time = struct.unpack('<HH',data[i:i+4])\n",
    "        Search_Time = (Search_Time[1]<<16)+Search_Time[0]\n",
    "        Search_Time = time.gmtime(Search_Time)\n",
    "        Search_Time = str(Search_Time[0])+'년 '+str(Search_Time[1])+'월 '+str(Search_Time[2])+'일 '+str(Search_Time[3])+'시 '+str(Search_Time[4])+'분'\n",
    "        \n",
    "        Search_place = data[i+41+1:i+41+1+data[i+41]*2].decode('utf-16')\n",
    "        Search_Data.append((Search_Time,Search_place))\n",
    "        \n",
    "    return [Data_Except_Removed,Data_All,Search_Data]"
   ]
  },
  {
   "cell_type": "code",
   "execution_count": 133,
   "metadata": {},
   "outputs": [
    {
     "data": {
      "text/plain": [
       "[6,\n",
       " 6,\n",
       " [('2019년 8월 9일 12시 42분', '충주터미널'),\n",
       "  ('2019년 12월 19일 12시 46분', '충주터미널'),\n",
       "  ('2019년 12월 25일 12시 58분', '충주삼성디지털'),\n",
       "  ('2019년 12월 25일 12시 59분', '삼성디지털'),\n",
       "  ('2019년 12월 25일 12시 59분', '충주삼성디지털'),\n",
       "  ('2020년 1월 27일 10시 54분', '다이소')]]"
      ]
     },
     "execution_count": 133,
     "metadata": {},
     "output_type": "execute_result"
    }
   ],
   "source": [
    "GiniInputHistory = GiniInputHistorybin(data)\n",
    "GiniInputHistory"
   ]
  },
  {
   "cell_type": "code",
   "execution_count": 134,
   "metadata": {},
   "outputs": [
    {
     "name": "stdout",
     "output_type": "stream",
     "text": [
      "삭제된 데이터를 제외한 데이터의 개수:6\n"
     ]
    }
   ],
   "source": [
    "print('삭제된 데이터를 제외한 데이터의 개수:'+str(GiniInputHistory[0]))"
   ]
  },
  {
   "cell_type": "code",
   "execution_count": 135,
   "metadata": {},
   "outputs": [
    {
     "name": "stdout",
     "output_type": "stream",
     "text": [
      "총 데이터의 개수: 6\n"
     ]
    }
   ],
   "source": [
    "print('총 데이터의 개수: '+str(GiniInputHistory[1]))"
   ]
  },
  {
   "cell_type": "code",
   "execution_count": 141,
   "metadata": {},
   "outputs": [
    {
     "data": {
      "text/plain": [
       "'2019년 8월 9일 12시 42분'"
      ]
     },
     "execution_count": 141,
     "metadata": {},
     "output_type": "execute_result"
    }
   ],
   "source": [
    "GiniInputHistory[2][0][0]"
   ]
  },
  {
   "cell_type": "code",
   "execution_count": 119,
   "metadata": {},
   "outputs": [
    {
     "name": "stdout",
     "output_type": "stream",
     "text": [
      "time.struct_time(tm_year=2019, tm_mon=12, tm_mday=19, tm_hour=12, tm_min=46, tm_sec=13, tm_wday=3, tm_yday=353, tm_isdst=0)\n"
     ]
    }
   ],
   "source": [
    "print(time.gmtime(Search_Time))\n",
    "Search_Time = time.gmtime(Search_Time)"
   ]
  },
  {
   "cell_type": "code",
   "execution_count": 121,
   "metadata": {},
   "outputs": [
    {
     "data": {
      "text/plain": [
       "'2019년 12월 19일 12분 46시 '"
      ]
     },
     "execution_count": 121,
     "metadata": {},
     "output_type": "execute_result"
    }
   ],
   "source": [
    "Search_Time = str(Search_Time[0])+'년 '+str(Search_Time[1])+'월 '+str(Search_Time[2])+'일 '+str(Search_Time[3])+'시 '+str(Search_Time[4])+'분 '\n",
    "Search_Time"
   ]
  },
  {
   "cell_type": "code",
   "execution_count": 90,
   "metadata": {},
   "outputs": [
    {
     "name": "stdout",
     "output_type": "stream",
     "text": [
      "글자 수: 5\n"
     ]
    }
   ],
   "source": [
    "print('글자 수: '+ str(data[57]))"
   ]
  },
  {
   "cell_type": "code",
   "execution_count": 91,
   "metadata": {},
   "outputs": [
    {
     "data": {
      "text/plain": [
       "'충주터미널'"
      ]
     },
     "execution_count": 91,
     "metadata": {},
     "output_type": "execute_result"
    }
   ],
   "source": [
    "data[57+1:57+1+data[57]*2].decode('utf-16')"
   ]
  },
  {
   "cell_type": "code",
   "execution_count": 92,
   "metadata": {},
   "outputs": [
    {
     "name": "stdout",
     "output_type": "stream",
     "text": [
      "time.struct_time(tm_year=2019, tm_mon=12, tm_mday=19, tm_hour=12, tm_min=46, tm_sec=13, tm_wday=3, tm_yday=353, tm_isdst=0)\n"
     ]
    }
   ],
   "source": [
    "Search_Time = struct.unpack('<HH',data[124:128])\n",
    "Search_Time = (Search_Time[1]<<16)+Search_Time[0]\n",
    "print(time.gmtime(Search_Time))"
   ]
  },
  {
   "cell_type": "code",
   "execution_count": 94,
   "metadata": {},
   "outputs": [
    {
     "name": "stdout",
     "output_type": "stream",
     "text": [
      "글자 수: 5\n"
     ]
    }
   ],
   "source": [
    "print('글자 수: '+ str(data[165]))"
   ]
  },
  {
   "cell_type": "code",
   "execution_count": 95,
   "metadata": {},
   "outputs": [
    {
     "data": {
      "text/plain": [
       "'충주터미널'"
      ]
     },
     "execution_count": 95,
     "metadata": {},
     "output_type": "execute_result"
    }
   ],
   "source": [
    "data[165+1:165+1+data[165]*2].decode('utf-16')"
   ]
  },
  {
   "cell_type": "code",
   "execution_count": 30,
   "metadata": {},
   "outputs": [
    {
     "data": {
      "text/plain": [
       "'충'"
      ]
     },
     "execution_count": 30,
     "metadata": {},
     "output_type": "execute_result"
    }
   ],
   "source": [
    "data[58:60].decode('utf-16')"
   ]
  },
  {
   "cell_type": "markdown",
   "metadata": {},
   "source": [
    "참고문헌: 최용석. \"디지털 포렌식 관점에서의 내비게이션 사용흔적 정보 분석.\" 국내석사학위논문 高麗大學校 \n",
    "情報經營工學專門大學院, 2010. 서울"
   ]
  }
 ],
 "metadata": {
  "kernelspec": {
   "display_name": "Python 3",
   "language": "python",
   "name": "python3"
  },
  "language_info": {
   "codemirror_mode": {
    "name": "ipython",
    "version": 3
   },
   "file_extension": ".py",
   "mimetype": "text/x-python",
   "name": "python",
   "nbconvert_exporter": "python",
   "pygments_lexer": "ipython3",
   "version": "3.8.5"
  }
 },
 "nbformat": 4,
 "nbformat_minor": 4
}
