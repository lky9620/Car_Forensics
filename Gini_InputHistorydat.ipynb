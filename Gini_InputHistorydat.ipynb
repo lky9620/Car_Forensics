{
 "cells": [
  {
   "cell_type": "markdown",
   "metadata": {},
   "source": [
    "# Gini 네비게이션의 InputHistory.dat파일 분석"
   ]
  },
  {
   "cell_type": "markdown",
   "metadata": {},
   "source": [
    "+ Gini 네비게이션에서 통합검색 기능을 사용한 사용자의 검색 기록이 저장되는 InputHistory.dat 파일을 분석함.\n",
    "+ InputHistroy 파일은 UserData에 존재."
   ]
  },
  {
   "cell_type": "code",
   "execution_count": 41,
   "metadata": {},
   "outputs": [],
   "source": [
    "import struct\n",
    "import time"
   ]
  },
  {
   "cell_type": "code",
   "execution_count": 42,
   "metadata": {},
   "outputs": [],
   "source": [
    "Last_Data = open('C:/Users/LEEKEONYONG/Desktop/navigation_backup/UserData/InputHistory.dat', 'rb')\n",
    "data = Last_Data.read()\n",
    "Last_Data.close()"
   ]
  },
  {
   "cell_type": "markdown",
   "metadata": {},
   "source": [
    "### 메소드 설명\n",
    "+ Gini 네비게이션 상의 InputHistory.dat 파일의 데이터 분석을 위한 함수 정의\n",
    "+ 인용한 논문에 따르면, offset 0부터 1바이트는 총 데이터의 갯수, 8부터 1바이트는 데이터 순서, 13부터 1바이트는 검색한 장소의 문자수, 14부터 13의 내용만큼의 바이트는 검색한 장소의 이름을 표현함\n",
    "     + 입력 시간을 가리키는 offset 16부터 4바이트는 사용자의 검색 시간을 나타냄.\n",
    "     + 따라서, strcut 라이브러리의 unpack 메소드를 이용하여 '<' 파라미터를 통해리틀 앤디언 형식의 bytearray를 10진수로 변환함.\n",
    "          \n",
    "     ```python\n",
    "    Search_Time = struct.unpack('<HH',data[i:i+4])\n",
    "    Search_Time = (Search_Time[1]<<16)+Search_Time[0]\n",
    "     ```\n",
    "     \n",
    "     + 위의 식에서 반환 된 데이터는 UTC(시)로 기준시인 1970년 1월 1일에 초단위로 더하여야함.\n",
    "     + 이는 time라이브러리의 gmtime 메소드를 이용하여 표준시를 구함.\n",
    "     \n",
    "     ```python\n",
    "    Search_Time = time.gmtime(Search_Time)\n",
    "     ```\n",
    "     \n",
    "     + 검색된 단어(목적지)등의 목록의 글자수는 offset 13부터 1바이트에 나타나 있음.\n",
    "     + 검색된 단어(목적지)등은 offset 14바이트부터 offset 13에 나타나 있는 데이터의 2배 길이만큼(한글은 2바이트로 표현) 나타나있음.\n",
    "     + 검색된 단어(목적지)는 utf-16형식으로 디코딩 하면 그 내용을 볼 수 있음.\n",
    "     \n",
    "     ```python\n",
    "    Search_place = data[i+41+1:i+41+1+data[i+41]*2].decode('utf-16')\n",
    "     ```"
   ]
  },
  {
   "cell_type": "code",
   "execution_count": 43,
   "metadata": {},
   "outputs": [],
   "source": [
    "def GiniInputHistorydat(data):\n",
    "    Search_Data = []\n",
    "    Offset_in_InputHistorybin = 68\n",
    "    Data_All = data[0]\n",
    "    \n",
    "    for i in range(9,Offset_in_InputHistorybin*data[0],Offset_in_InputHistorybin):\n",
    "        Search_Time = struct.unpack('<HH',data[i:i+4])\n",
    "        Search_Time = (Search_Time[1]<<16)+Search_Time[0]\n",
    "        Search_Time = time.gmtime(Search_Time)\n",
    "        Search_Time = str(Search_Time[0])+'년 '+str(Search_Time[1])+'월 '+str(Search_Time[2])+'일 '+str(Search_Time[3])+'시 '+str(Search_Time[4])+'분'\n",
    "        \n",
    "        Search_place = data[i+5:i+5+data[i+4]*2].decode('utf-16')\n",
    "        Search_Data.append((Search_Time,Search_place))\n",
    "        \n",
    "    return [Data_All,Search_Data]"
   ]
  },
  {
   "cell_type": "code",
   "execution_count": 44,
   "metadata": {},
   "outputs": [],
   "source": [
    "GiniInputHistory = GiniInputHistorydat(data)"
   ]
  },
  {
   "cell_type": "code",
   "execution_count": 45,
   "metadata": {},
   "outputs": [
    {
     "name": "stdout",
     "output_type": "stream",
     "text": [
      "총 데이터의 개수: 6\n"
     ]
    }
   ],
   "source": [
    "print('총 데이터의 개수: '+str(GiniInputHistory[0]))"
   ]
  },
  {
   "cell_type": "code",
   "execution_count": 46,
   "metadata": {},
   "outputs": [
    {
     "name": "stdout",
     "output_type": "stream",
     "text": [
      "1번째 검색 단어 충주터미널의 검색시간은 2019년 8월 9일 12시 42분입니다\n",
      "2번째 검색 단어 충주터미널의 검색시간은 2019년 12월 19일 12시 46분입니다\n",
      "3번째 검색 단어 충주삼성디지털의 검색시간은 2019년 12월 25일 12시 58분입니다\n",
      "4번째 검색 단어 삼성디지털의 검색시간은 2019년 12월 25일 12시 59분입니다\n",
      "5번째 검색 단어 충주삼성디지털의 검색시간은 2019년 12월 25일 12시 59분입니다\n",
      "6번째 검색 단어 다이소의 검색시간은 2020년 1월 27일 10시 54분입니다\n"
     ]
    }
   ],
   "source": [
    "for i in range(len(GiniInputHistory[1])):\n",
    "    print(str(i+1)+'번째 검색 단어 ' + str(GiniInputHistory[1][i][1])+'의 검색시간은 '+str(GiniInputHistory[1][i][0])+ '입니다' )"
   ]
  },
  {
   "cell_type": "code",
   "execution_count": null,
   "metadata": {},
   "outputs": [],
   "source": []
  }
 ],
 "metadata": {
  "kernelspec": {
   "display_name": "Python 3",
   "language": "python",
   "name": "python3"
  },
  "language_info": {
   "codemirror_mode": {
    "name": "ipython",
    "version": 3
   },
   "file_extension": ".py",
   "mimetype": "text/x-python",
   "name": "python",
   "nbconvert_exporter": "python",
   "pygments_lexer": "ipython3",
   "version": "3.8.5"
  }
 },
 "nbformat": 4,
 "nbformat_minor": 4
}
