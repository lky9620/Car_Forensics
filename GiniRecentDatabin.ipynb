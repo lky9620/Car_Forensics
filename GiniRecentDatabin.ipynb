{
 "cells": [
  {
   "cell_type": "markdown",
   "metadata": {},
   "source": [
    "# Gini 네비게이션의 RecentData.bin 파일 분석"
   ]
  },
  {
   "cell_type": "markdown",
   "metadata": {},
   "source": [
    "+ Gini 네비게이션에서 특정 위치를 설정하거나 검색 기능을 사용하여 특정 위치를 출발지 또는 도착지로 설정한 경우 지점의 정보를 저장.\n",
    "+ RecentData.bin 파일은 UserData에 존재."
   ]
  },
  {
   "cell_type": "code",
   "execution_count": 1,
   "metadata": {},
   "outputs": [],
   "source": [
    "import struct\n",
    "import time\n",
    "import folium"
   ]
  },
  {
   "cell_type": "code",
   "execution_count": 116,
   "metadata": {},
   "outputs": [],
   "source": [
    "Last_Data = open('C:/Users/LEEKEONYONG/Desktop/navigation_backup/UserData/RecentData.bin', 'rb')\n",
    "data = Last_Data.read()\n",
    "Last_Data.close()"
   ]
  },
  {
   "cell_type": "markdown",
   "metadata": {},
   "source": [
    "### 메소드 설명\n",
    " + Gini 네비게이션 상의 RecentData.bin 파일의 데이터 분석을 위한 함수 정의\n",
    " + "
   ]
  },
  {
   "cell_type": "code",
   "execution_count": 122,
   "metadata": {},
   "outputs": [],
   "source": [
    "def GiniRecentDatabin(data):\n",
    "    ls_Search_Data = []\n",
    "    \n",
    "    Offset_in_GiniRecentDatabin = 110\n",
    "    Data_Except_Removed = data[8]\n",
    "    All_Data = data[11]\n",
    "    \n",
    "    for i in range(0,110*All_Data,Offset_in_GiniRecentDatabin):\n",
    "        \n",
    "        Data_Seq = data[12+i]\n",
    "        \n",
    "        Search_Time = struct.unpack('<HH',data[15+i:15+4+i])\n",
    "        Search_Time = (Search_Time[1]<<16)+Search_Time[0]\n",
    "        Search_Time = time.gmtime(Search_Time)\n",
    "        Search_Time = str(Search_Time[0])+'년 '+str(Search_Time[1])+'월 '+str(Search_Time[2])+'일 '+str(Search_Time[3])+'시 '+str(Search_Time[4])+'분'\n",
    "        \n",
    "        Data_Classfication = data[44+i]\n",
    "        if Data_Classfication == 0:\n",
    "            Data_Classfication = '최근검색지'\n",
    "        elif Data_Classfication == 1:\n",
    "            Data_Classfication = '최근출발지'\n",
    "        elif Data_Classfication == 2:\n",
    "            Data_Classfication = '최근목적지'\n",
    "        elif Data_Classfication == 3:\n",
    "            Data_Classfication = '최근경유지'\n",
    "            \n",
    "        X_Line = data[29+i:29+i+4]\n",
    "        Y_Line = data[29+i+4:29+i+8]\n",
    "\n",
    "        X_Line = struct.unpack('<HH',X_Line)\n",
    "        X_Line = (X_Line[1]<<16)+X_Line[0]\n",
    "\n",
    "        Y_Line = struct.unpack('<HH',Y_Line)\n",
    "        Y_Line = (Y_Line[1]<<16)+Y_Line[0]\n",
    "        \n",
    "#         X_Line += 81284000\n",
    "#         Y_Line += 23820000\n",
    "        \n",
    "        Search_Place = data[51+i:51+i+data[51+i-1]*2].decode('utf-16')\n",
    "        \n",
    "        ls_Search_Data.append((Data_Seq, Search_Time, Data_Classfication, (Y_Line,X_Line), Search_Place))\n",
    "        \n",
    "    return [Data_Except_Removed,All_Data,ls_Search_Data]"
   ]
  },
  {
   "cell_type": "code",
   "execution_count": 123,
   "metadata": {},
   "outputs": [],
   "source": [
    "GiniRecentData = GiniRecentDatabin(data)"
   ]
  },
  {
   "cell_type": "code",
   "execution_count": 124,
   "metadata": {},
   "outputs": [
    {
     "name": "stdout",
     "output_type": "stream",
     "text": [
      "삭제된 데이터를 제외한 개수: 20\n"
     ]
    }
   ],
   "source": [
    "print('삭제된 데이터를 제외한 개수: '+str(GiniRecentData[0]))"
   ]
  },
  {
   "cell_type": "code",
   "execution_count": 125,
   "metadata": {},
   "outputs": [
    {
     "name": "stdout",
     "output_type": "stream",
     "text": [
      "총 데이터의 개수: 20\n"
     ]
    }
   ],
   "source": [
    "print('총 데이터의 개수: ' + str(GiniRecentData[1]))"
   ]
  },
  {
   "cell_type": "code",
   "execution_count": 126,
   "metadata": {},
   "outputs": [
    {
     "name": "stdout",
     "output_type": "stream",
     "text": [
      "(1, '2019년 7월 2일 14시 2분', '최근검색지', (13314600, 46059730), '충청북도 충주시 금곡서2길 19-1')\n",
      "(2, '2019년 5월 28일 5시 7분', '최근검색지', (13314309, 46052317), '충북 충주시 칠금.금릉동')\n",
      "(3, '2019년 7월 2일 14시 2분', '최근검색지', (13314600, 46059730), '충청북도 충주시 금곡서2길 19-1')\n",
      "(4, '2019년 5월 29일 5시 29분', '최근검색지', (13313174, 46059030), '충북 충주시 연수동')\n",
      "(5, '2019년 6월 3일 12시 17분', '최근검색지', (13242618, 45931721), '충북 증평군 증평읍')\n",
      "(6, '2019년 6월 10일 11시 37분', '최근검색지', (13187612, 45892284), '충북 청주시서원구 사직2동')\n",
      "(7, '2019년 7월 2일 14시 2분', '최근검색지', (13314351, 46056913), '충북 충주시 연수동')\n",
      "(8, '2019년 8월 9일 12시 42분', '최근검색지', (13312120, 46050188), '충주터미널')\n",
      "(9, '2019년 12월 19일 12시 46분', '최근검색지', (13314394, 46059376), '충북 충주시 연수동')\n",
      "(10, '2019년 8월 9일 12시 42분', '최근검색지', (13312120, 46050188), '충주터미널')\n",
      "(11, '2019년 12월 19일 12시 46분', '최근검색지', (13312120, 46050188), '충주고속터미널')\n",
      "(12, '2019년 12월 19일 12시 46분', '최근검색지', (13312120, 46050188), '충주고속터미널')\n",
      "(13, '2019년 12월 25일 12시 59분', '최근검색지', (13308469, 46051097), '삼성디지털플라자(충주문화점)')\n",
      "(14, '2019년 12월 25일 12시 59분', '최근검색지', (13314850, 46059626), '충북 충주시 연수동')\n",
      "(15, '2019년 12월 25일 12시 59분', '최근검색지', (13308469, 46051097), '삼성디지털플라자(충주문화점)')\n",
      "(16, '2019년 12월 25일 13시 11분', '최근검색지', (13310996, 46051079), '충북 충주시 봉방동')\n",
      "(17, '2019년 12월 25일 13시 11분', '최근검색지', (13311563, 46050269), '충북 충주시 봉방동')\n",
      "(18, '2020년 1월 27일 10시 54분', '최근검색지', (13412221, 45758430), '다이소(용인민속촌점)')\n",
      "(19, '2020년 1월 27일 10시 54분', '최근검색지', (13414932, 45758698), '경기 용인시기흥구 상갈동')\n",
      "(20, '2020년 1월 27일 10시 54분', '최근검색지', (13412221, 45758430), '다이소(용인민속촌점)')\n"
     ]
    }
   ],
   "source": [
    "for i in range(GiniRecentData[1]):\n",
    "    print(GiniRecentData[2][i])"
   ]
  },
  {
   "cell_type": "code",
   "execution_count": 71,
   "metadata": {},
   "outputs": [
    {
     "data": {
      "text/html": [
       "<div style=\"width:100%;\"><div style=\"position:relative;width:100%;height:0;padding-bottom:60%;\"><span style=\"color:#565656\">Make this Notebook Trusted to load map: File -> Trust Notebook</span><iframe src=\"about:blank\" style=\"position:absolute;width:100%;height:100%;left:0;top:0;border:none !important;\" data-html=%3C%21DOCTYPE%20html%3E%0A%3Chead%3E%20%20%20%20%0A%20%20%20%20%3Cmeta%20http-equiv%3D%22content-type%22%20content%3D%22text/html%3B%20charset%3DUTF-8%22%20/%3E%0A%20%20%20%20%0A%20%20%20%20%20%20%20%20%3Cscript%3E%0A%20%20%20%20%20%20%20%20%20%20%20%20L_NO_TOUCH%20%3D%20false%3B%0A%20%20%20%20%20%20%20%20%20%20%20%20L_DISABLE_3D%20%3D%20false%3B%0A%20%20%20%20%20%20%20%20%3C/script%3E%0A%20%20%20%20%0A%20%20%20%20%3Cstyle%3Ehtml%2C%20body%20%7Bwidth%3A%20100%25%3Bheight%3A%20100%25%3Bmargin%3A%200%3Bpadding%3A%200%3B%7D%3C/style%3E%0A%20%20%20%20%3Cstyle%3E%23map%20%7Bposition%3Aabsolute%3Btop%3A0%3Bbottom%3A0%3Bright%3A0%3Bleft%3A0%3B%7D%3C/style%3E%0A%20%20%20%20%3Cscript%20src%3D%22https%3A//cdn.jsdelivr.net/npm/leaflet%401.6.0/dist/leaflet.js%22%3E%3C/script%3E%0A%20%20%20%20%3Cscript%20src%3D%22https%3A//code.jquery.com/jquery-1.12.4.min.js%22%3E%3C/script%3E%0A%20%20%20%20%3Cscript%20src%3D%22https%3A//maxcdn.bootstrapcdn.com/bootstrap/3.2.0/js/bootstrap.min.js%22%3E%3C/script%3E%0A%20%20%20%20%3Cscript%20src%3D%22https%3A//cdnjs.cloudflare.com/ajax/libs/Leaflet.awesome-markers/2.0.2/leaflet.awesome-markers.js%22%3E%3C/script%3E%0A%20%20%20%20%3Clink%20rel%3D%22stylesheet%22%20href%3D%22https%3A//cdn.jsdelivr.net/npm/leaflet%401.6.0/dist/leaflet.css%22/%3E%0A%20%20%20%20%3Clink%20rel%3D%22stylesheet%22%20href%3D%22https%3A//maxcdn.bootstrapcdn.com/bootstrap/3.2.0/css/bootstrap.min.css%22/%3E%0A%20%20%20%20%3Clink%20rel%3D%22stylesheet%22%20href%3D%22https%3A//maxcdn.bootstrapcdn.com/bootstrap/3.2.0/css/bootstrap-theme.min.css%22/%3E%0A%20%20%20%20%3Clink%20rel%3D%22stylesheet%22%20href%3D%22https%3A//maxcdn.bootstrapcdn.com/font-awesome/4.6.3/css/font-awesome.min.css%22/%3E%0A%20%20%20%20%3Clink%20rel%3D%22stylesheet%22%20href%3D%22https%3A//cdnjs.cloudflare.com/ajax/libs/Leaflet.awesome-markers/2.0.2/leaflet.awesome-markers.css%22/%3E%0A%20%20%20%20%3Clink%20rel%3D%22stylesheet%22%20href%3D%22https%3A//cdn.jsdelivr.net/gh/python-visualization/folium/folium/templates/leaflet.awesome.rotate.min.css%22/%3E%0A%20%20%20%20%0A%20%20%20%20%20%20%20%20%20%20%20%20%3Cmeta%20name%3D%22viewport%22%20content%3D%22width%3Ddevice-width%2C%0A%20%20%20%20%20%20%20%20%20%20%20%20%20%20%20%20initial-scale%3D1.0%2C%20maximum-scale%3D1.0%2C%20user-scalable%3Dno%22%20/%3E%0A%20%20%20%20%20%20%20%20%20%20%20%20%3Cstyle%3E%0A%20%20%20%20%20%20%20%20%20%20%20%20%20%20%20%20%23map_5135fcb316d140f895da51d0efe7fdf5%20%7B%0A%20%20%20%20%20%20%20%20%20%20%20%20%20%20%20%20%20%20%20%20position%3A%20relative%3B%0A%20%20%20%20%20%20%20%20%20%20%20%20%20%20%20%20%20%20%20%20width%3A%20100.0%25%3B%0A%20%20%20%20%20%20%20%20%20%20%20%20%20%20%20%20%20%20%20%20height%3A%20100.0%25%3B%0A%20%20%20%20%20%20%20%20%20%20%20%20%20%20%20%20%20%20%20%20left%3A%200.0%25%3B%0A%20%20%20%20%20%20%20%20%20%20%20%20%20%20%20%20%20%20%20%20top%3A%200.0%25%3B%0A%20%20%20%20%20%20%20%20%20%20%20%20%20%20%20%20%7D%0A%20%20%20%20%20%20%20%20%20%20%20%20%3C/style%3E%0A%20%20%20%20%20%20%20%20%0A%3C/head%3E%0A%3Cbody%3E%20%20%20%20%0A%20%20%20%20%0A%20%20%20%20%20%20%20%20%20%20%20%20%3Cdiv%20class%3D%22folium-map%22%20id%3D%22map_5135fcb316d140f895da51d0efe7fdf5%22%20%3E%3C/div%3E%0A%20%20%20%20%20%20%20%20%0A%3C/body%3E%0A%3Cscript%3E%20%20%20%20%0A%20%20%20%20%0A%20%20%20%20%20%20%20%20%20%20%20%20var%20map_5135fcb316d140f895da51d0efe7fdf5%20%3D%20L.map%28%0A%20%20%20%20%20%20%20%20%20%20%20%20%20%20%20%20%22map_5135fcb316d140f895da51d0efe7fdf5%22%2C%0A%20%20%20%20%20%20%20%20%20%20%20%20%20%20%20%20%7B%0A%20%20%20%20%20%20%20%20%20%20%20%20%20%20%20%20%20%20%20%20center%3A%20%5B37.302892%2C%20127.119352%5D%2C%0A%20%20%20%20%20%20%20%20%20%20%20%20%20%20%20%20%20%20%20%20crs%3A%20L.CRS.EPSG3857%2C%0A%20%20%20%20%20%20%20%20%20%20%20%20%20%20%20%20%20%20%20%20zoom%3A%2015%2C%0A%20%20%20%20%20%20%20%20%20%20%20%20%20%20%20%20%20%20%20%20zoomControl%3A%20true%2C%0A%20%20%20%20%20%20%20%20%20%20%20%20%20%20%20%20%20%20%20%20preferCanvas%3A%20false%2C%0A%20%20%20%20%20%20%20%20%20%20%20%20%20%20%20%20%7D%0A%20%20%20%20%20%20%20%20%20%20%20%20%29%3B%0A%0A%20%20%20%20%20%20%20%20%20%20%20%20%0A%0A%20%20%20%20%20%20%20%20%0A%20%20%20%20%0A%20%20%20%20%20%20%20%20%20%20%20%20var%20tile_layer_5611b234b9194f3485fb534bfe9169f8%20%3D%20L.tileLayer%28%0A%20%20%20%20%20%20%20%20%20%20%20%20%20%20%20%20%22https%3A//%7Bs%7D.tile.openstreetmap.org/%7Bz%7D/%7Bx%7D/%7By%7D.png%22%2C%0A%20%20%20%20%20%20%20%20%20%20%20%20%20%20%20%20%7B%22attribution%22%3A%20%22Data%20by%20%5Cu0026copy%3B%20%5Cu003ca%20href%3D%5C%22http%3A//openstreetmap.org%5C%22%5Cu003eOpenStreetMap%5Cu003c/a%5Cu003e%2C%20under%20%5Cu003ca%20href%3D%5C%22http%3A//www.openstreetmap.org/copyright%5C%22%5Cu003eODbL%5Cu003c/a%5Cu003e.%22%2C%20%22detectRetina%22%3A%20false%2C%20%22maxNativeZoom%22%3A%2018%2C%20%22maxZoom%22%3A%2018%2C%20%22minZoom%22%3A%200%2C%20%22noWrap%22%3A%20false%2C%20%22opacity%22%3A%201%2C%20%22subdomains%22%3A%20%22abc%22%2C%20%22tms%22%3A%20false%7D%0A%20%20%20%20%20%20%20%20%20%20%20%20%29.addTo%28map_5135fcb316d140f895da51d0efe7fdf5%29%3B%0A%20%20%20%20%20%20%20%20%0A%20%20%20%20%0A%20%20%20%20%20%20%20%20%20%20%20%20var%20marker_1002653a1a6a43b3ae73cb3637b8ad42%20%3D%20L.marker%28%0A%20%20%20%20%20%20%20%20%20%20%20%20%20%20%20%20%5B37.302892%2C%20127.119352%5D%2C%0A%20%20%20%20%20%20%20%20%20%20%20%20%20%20%20%20%7B%7D%0A%20%20%20%20%20%20%20%20%20%20%20%20%29.addTo%28map_5135fcb316d140f895da51d0efe7fdf5%29%3B%0A%20%20%20%20%20%20%20%20%0A%20%20%20%20%0A%20%20%20%20%20%20%20%20%20%20%20%20marker_1002653a1a6a43b3ae73cb3637b8ad42.bindTooltip%28%0A%20%20%20%20%20%20%20%20%20%20%20%20%20%20%20%20%60%3Cdiv%3E%0A%20%20%20%20%20%20%20%20%20%20%20%20%20%20%20%20%20%20%20%20%20%ED%95%B4%EB%8B%B9%EC%A7%80%EC%A0%90%20%EC%A2%8C%ED%91%9C%0A%20%20%20%20%20%20%20%20%20%20%20%20%20%20%20%20%20%3C/div%3E%60%2C%0A%20%20%20%20%20%20%20%20%20%20%20%20%20%20%20%20%7B%22sticky%22%3A%20true%7D%0A%20%20%20%20%20%20%20%20%20%20%20%20%29%3B%0A%20%20%20%20%20%20%20%20%0A%3C/script%3E onload=\"this.contentDocument.open();this.contentDocument.write(    decodeURIComponent(this.getAttribute('data-html')));this.contentDocument.close();\" allowfullscreen webkitallowfullscreen mozallowfullscreen></iframe></div></div>"
      ],
      "text/plain": [
       "<folium.folium.Map at 0x1e6a6702a00>"
      ]
     },
     "execution_count": 71,
     "metadata": {},
     "output_type": "execute_result"
    }
   ],
   "source": [
    "m = folium.Map([GPS[0]/10**6,GPS[1]/10**6], zoom_start = 15)\n",
    "folium.Marker([GPS[0]/10**6,GPS[1]/10**6],tooltip = '해당지점 좌표').add_to(m)\n",
    "m"
   ]
  }
 ],
 "metadata": {
  "kernelspec": {
   "display_name": "Python 3",
   "language": "python",
   "name": "python3"
  },
  "language_info": {
   "codemirror_mode": {
    "name": "ipython",
    "version": 3
   },
   "file_extension": ".py",
   "mimetype": "text/x-python",
   "name": "python",
   "nbconvert_exporter": "python",
   "pygments_lexer": "ipython3",
   "version": "3.8.5"
  }
 },
 "nbformat": 4,
 "nbformat_minor": 4
}
