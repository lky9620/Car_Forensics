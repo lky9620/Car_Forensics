{
 "cells": [
  {
   "cell_type": "markdown",
   "metadata": {},
   "source": [
    "# Gini 네비게이션의 기본.mgf파일 분석"
   ]
  },
  {
   "cell_type": "markdown",
   "metadata": {},
   "source": [
    "+ Gini 네비게이션에서 통합검색 기능을 사용한 사용자의 검색 기록이 저장되는 기본.mgf 파일을 분석함.\n",
    "+ 기본.mgf 파일은 Rec에 존재."
   ]
  },
  {
   "cell_type": "code",
   "execution_count": 1,
   "metadata": {},
   "outputs": [],
   "source": [
    "import struct\n",
    "import time\n",
    "import folium"
   ]
  },
  {
   "cell_type": "code",
   "execution_count": 2,
   "metadata": {},
   "outputs": [],
   "source": [
    "Last_Data = open('C:/Users/LEEKEONYONG/Desktop/navigation_backup/4/UserData/MyPoint/기본.mgf', 'rb')\n",
    "data = Last_Data.read()\n",
    "Last_Data.close()"
   ]
  },
  {
   "cell_type": "code",
   "execution_count": 13,
   "metadata": {},
   "outputs": [],
   "source": [
    "Last_Data = open('C:/Users/LEEKEONYONG/Desktop/navigation_backup/3/TRAINFO/LINKSPEED.BIN', 'rb')\n",
    "# Last_Data = open('C:/Users/LEEKEONYONG/Desktop/navigation_backup/3/TRAINFO/MFGPS.BIN', 'rb')\n",
    "data = Last_Data.read()\n",
    "Last_Data.close()"
   ]
  },
  {
   "cell_type": "code",
   "execution_count": 14,
   "metadata": {
    "scrolled": true
   },
   "outputs": [
    {
     "name": "stdout",
     "output_type": "stream",
     "text": [
      "履\n",
      "ᅜ\n",
      "怑\n",
      "ɠ\n",
      "\u0002\n",
      "᠀\n",
      "䘘\n",
      "\n",
      "蟬\n",
      "ꂇ\n",
      "䂠\n",
      "\n",
      "蟬\n",
      "㪇\n",
      ":\n",
      "\u0000\n",
      "Ⰰ\n",
      "挬\n",
      "\n",
      "蟨\n",
      "ງ\n",
      "㤎\n",
      "9\n",
      "䘀\n",
      "嵆\n",
      "ᅝ\n",
      "怑\n",
      "Ѡ\n",
      "\u0004\n",
      "Ⰰ\n",
      "挬\n",
      "\n",
      "蟨\n",
      "岇\n",
      "孜\n",
      "\n",
      "蟨\n",
      "ᖇ\n",
      "\u0015\n",
      "\u0000\n",
      "쐀\n",
      "勄\n",
      "\n",
      "蟨\n",
      "ㆇ\n",
      "༱\n",
      "\u000f\n",
      "ꐀ\n",
      "릤\n",
      "\n",
      "蟧\n",
      "䂇\n",
      "Ṁ\n",
      "\u001e",
      "\n",
      "룜\n",
      "\n",
      "蟧\n",
      "ⲇ\n",
      "⼬\n",
      "/\n",
      "耀\n",
      "嶀\n",
      "ᅝ\n",
      "怑\n",
      "ՠ\n",
      "\u0005\n",
      "룜\n",
      "\n",
      "蟧\n",
      "䲇\n",
      "띌\n",
      "\n",
      "蟧\n",
      "䂇\n",
      "@\n",
      "\u0000\n",
      "렀\n",
      "\n",
      "\n",
      "蟳\n",
      "喇\n",
      "⁕\n",
      " \n",
      "퀀\n",
      "\n",
      "\n",
      "蟳\n",
      "䢇\n",
      "㕈\n",
      "5\n",
      "Ⰰ\n",
      "Ԭ\n",
      "\n",
      "蟧\n",
      "䚇\n",
      "㥆\n",
      "9\n",
      "搀\n",
      "Ѥ\n",
      "\n",
      "蟧\n",
      "䒇\n",
      "䡄\n",
      "H\n",
      "㌀\n",
      "帳\n",
      "ᅞ\n",
      "怑\n",
      "٠\n",
      "\u0006\n",
      "搀\n",
      "Ѥ\n",
      "\n",
      "蟧\n",
      "풇\n",
      "˔\n",
      "\n",
      "蟧\n",
      "އ\n",
      "\u0007\n",
      "\u0000\n",
      "ఀ\n",
      "Ȍ\n",
      "\n",
      "蟧\n",
      "ᮇ\n",
      "ԛ\n",
      "\u0005\n",
      "␀\n",
      "︤\n",
      "\n",
      "蟦\n",
      "ជ\n",
      "众\n",
      "O\n",
      "鐀\n",
      "ꮔ\n",
      "\n",
      "蟧\n",
      "抇\n",
      "偢\n",
      "P\n",
      "栀\n",
      "奨\n",
      "\n",
      "蟨\n",
      "⮇\n",
      "匫\n",
      "S\n",
      "ఀ\n",
      "䜌\n",
      "\n",
      "蟨\n",
      "ࢇ\n",
      "蔈\n",
      "",
      "\n",
      "케\n",
      "⧏\n",
      "ሩ\n",
      "怒\n",
      "͠\n",
      "\u0003\n",
      "ࠀ\n",
      "먈\n",
      "\n",
      "蟧\n",
      "悇\n",
      "剠\n",
      "\n",
      "蟨\n",
      "⒇\n",
      "$\n",
      "\u0000\n",
      "\n",
      "嫸\n",
      "\n",
      "蟨\n",
      "㢇\n",
      "ሸ\n",
      "\u0012\n",
      "저\n",
      "拈\n",
      "\n",
      "蟨\n",
      "⾇\n",
      " \n",
      " \n",
      "⼀\n",
      "⨯\n",
      "ሪ\n",
      "怒\n",
      "ݠ\n",
      "\u0007\n",
      "저\n",
      "拈\n",
      "\n",
      "蟨\n",
      "҇\n",
      "䄄\n",
      "\n",
      "蟬\n",
      "㦇\n",
      "9\n",
      "\u0000\n",
      "ꠀ\n",
      "䞨\n",
      "\n",
      "蟬\n",
      "㦇\n",
      "༹\n",
      "\u000f\n",
      "鈀\n",
      "ꢒ\n",
      "\n",
      "蟩\n",
      "䞇\n",
      "兇\n",
      "Q\n",
      "℀\n",
      "ꨡ\n",
      "\n",
      "蟩\n",
      "䦇\n",
      "噉\n",
      "V\n",
      "　\n",
      "䈰\n",
      "\n",
      "蟬\n",
      "䚇\n",
      "扆\n",
      "b\n",
      "됀\n",
      "ꮴ\n",
      "\n",
      "蟩\n",
      "嚇\n",
      "獖\n",
      "s\n",
      "눀\n",
      "ꮲ\n",
      "\n",
      "蟩\n",
      "厇\n",
      "畓\n",
      "u\n",
      "฀\n",
      "⬎\n",
      "ራ\n",
      "怒\n",
      "ɠ\n",
      "\u0002\n",
      "넀\n",
      "ꮱ\n",
      "\n",
      "蟩\n",
      "撇\n",
      "Ꝥ\n",
      "\n",
      "蟩\n",
      "㚇\n",
      "6\n",
      "\u0000\n",
      "\n",
      "ꫪ\n",
      "\n",
      "蟩\n",
      "㪇\n",
      "଺\n",
      "\u000b",
      "\n"
     ]
    }
   ],
   "source": [
    "for i in range(0,len(data),1):\n",
    "    try:\n",
    "        print(data[i:i+2].decode('utf-16'))\n",
    "    except:\n",
    "        pass"
   ]
  },
  {
   "cell_type": "code",
   "execution_count": 8,
   "metadata": {},
   "outputs": [],
   "source": [
    "def GiniLastbin(data,i):\n",
    "    X_Line = data[i:i+4]\n",
    "    Y_Line = data[i+4:i+8]\n",
    "    \n",
    "    X_Line = struct.unpack('<HH',X_Line)\n",
    "    X_Line = (X_Line[1]<<16)+X_Line[0]\n",
    "#     X_Line = X_Line[1]+X_Line[0]\n",
    "    \n",
    "    Y_Line = struct.unpack('<HH',Y_Line)\n",
    "    Y_Line = (Y_Line[1]<<16)+Y_Line[0]\n",
    "#     Y_Line = Y_Line[1]+Y_Line[0]\n",
    "    \n",
    "    X_Line += 81284000\n",
    "    Y_Line += 23820000\n",
    "\n",
    "#     X_Line += 81368304\n",
    "#     Y_Line += 23907342\n",
    "    \n",
    "    return Y_Line,X_Line  ## (위도, 경도)"
   ]
  },
  {
   "cell_type": "code",
   "execution_count": 9,
   "metadata": {},
   "outputs": [
    {
     "data": {
      "text/plain": [
       "(37255285, 127050492)"
      ]
     },
     "execution_count": 9,
     "metadata": {},
     "output_type": "execute_result"
    }
   ],
   "source": [
    "GPS = GiniLastbin(data,28)\n",
    "GPS\n",
    "##37266379, 127107132"
   ]
  },
  {
   "cell_type": "code",
   "execution_count": 11,
   "metadata": {},
   "outputs": [
    {
     "data": {
      "text/plain": [
       "(37234892, 127043352)"
      ]
     },
     "execution_count": 11,
     "metadata": {},
     "output_type": "execute_result"
    }
   ],
   "source": [
    "GPS = GiniLastbin(data,73)\n",
    "GPS\n",
    "## 37322234, 127127656"
   ]
  },
  {
   "cell_type": "code",
   "execution_count": 12,
   "metadata": {},
   "outputs": [
    {
     "data": {
      "text/html": [
       "<div style=\"width:100%;\"><div style=\"position:relative;width:100%;height:0;padding-bottom:60%;\"><span style=\"color:#565656\">Make this Notebook Trusted to load map: File -> Trust Notebook</span><iframe src=\"about:blank\" style=\"position:absolute;width:100%;height:100%;left:0;top:0;border:none !important;\" data-html=%3C%21DOCTYPE%20html%3E%0A%3Chead%3E%20%20%20%20%0A%20%20%20%20%3Cmeta%20http-equiv%3D%22content-type%22%20content%3D%22text/html%3B%20charset%3DUTF-8%22%20/%3E%0A%20%20%20%20%0A%20%20%20%20%20%20%20%20%3Cscript%3E%0A%20%20%20%20%20%20%20%20%20%20%20%20L_NO_TOUCH%20%3D%20false%3B%0A%20%20%20%20%20%20%20%20%20%20%20%20L_DISABLE_3D%20%3D%20false%3B%0A%20%20%20%20%20%20%20%20%3C/script%3E%0A%20%20%20%20%0A%20%20%20%20%3Cstyle%3Ehtml%2C%20body%20%7Bwidth%3A%20100%25%3Bheight%3A%20100%25%3Bmargin%3A%200%3Bpadding%3A%200%3B%7D%3C/style%3E%0A%20%20%20%20%3Cstyle%3E%23map%20%7Bposition%3Aabsolute%3Btop%3A0%3Bbottom%3A0%3Bright%3A0%3Bleft%3A0%3B%7D%3C/style%3E%0A%20%20%20%20%3Cscript%20src%3D%22https%3A//cdn.jsdelivr.net/npm/leaflet%401.6.0/dist/leaflet.js%22%3E%3C/script%3E%0A%20%20%20%20%3Cscript%20src%3D%22https%3A//code.jquery.com/jquery-1.12.4.min.js%22%3E%3C/script%3E%0A%20%20%20%20%3Cscript%20src%3D%22https%3A//maxcdn.bootstrapcdn.com/bootstrap/3.2.0/js/bootstrap.min.js%22%3E%3C/script%3E%0A%20%20%20%20%3Cscript%20src%3D%22https%3A//cdnjs.cloudflare.com/ajax/libs/Leaflet.awesome-markers/2.0.2/leaflet.awesome-markers.js%22%3E%3C/script%3E%0A%20%20%20%20%3Clink%20rel%3D%22stylesheet%22%20href%3D%22https%3A//cdn.jsdelivr.net/npm/leaflet%401.6.0/dist/leaflet.css%22/%3E%0A%20%20%20%20%3Clink%20rel%3D%22stylesheet%22%20href%3D%22https%3A//maxcdn.bootstrapcdn.com/bootstrap/3.2.0/css/bootstrap.min.css%22/%3E%0A%20%20%20%20%3Clink%20rel%3D%22stylesheet%22%20href%3D%22https%3A//maxcdn.bootstrapcdn.com/bootstrap/3.2.0/css/bootstrap-theme.min.css%22/%3E%0A%20%20%20%20%3Clink%20rel%3D%22stylesheet%22%20href%3D%22https%3A//maxcdn.bootstrapcdn.com/font-awesome/4.6.3/css/font-awesome.min.css%22/%3E%0A%20%20%20%20%3Clink%20rel%3D%22stylesheet%22%20href%3D%22https%3A//cdnjs.cloudflare.com/ajax/libs/Leaflet.awesome-markers/2.0.2/leaflet.awesome-markers.css%22/%3E%0A%20%20%20%20%3Clink%20rel%3D%22stylesheet%22%20href%3D%22https%3A//cdn.jsdelivr.net/gh/python-visualization/folium/folium/templates/leaflet.awesome.rotate.min.css%22/%3E%0A%20%20%20%20%0A%20%20%20%20%20%20%20%20%20%20%20%20%3Cmeta%20name%3D%22viewport%22%20content%3D%22width%3Ddevice-width%2C%0A%20%20%20%20%20%20%20%20%20%20%20%20%20%20%20%20initial-scale%3D1.0%2C%20maximum-scale%3D1.0%2C%20user-scalable%3Dno%22%20/%3E%0A%20%20%20%20%20%20%20%20%20%20%20%20%3Cstyle%3E%0A%20%20%20%20%20%20%20%20%20%20%20%20%20%20%20%20%23map_03882c08293a4cc09536c2e4d78bc3f1%20%7B%0A%20%20%20%20%20%20%20%20%20%20%20%20%20%20%20%20%20%20%20%20position%3A%20relative%3B%0A%20%20%20%20%20%20%20%20%20%20%20%20%20%20%20%20%20%20%20%20width%3A%20100.0%25%3B%0A%20%20%20%20%20%20%20%20%20%20%20%20%20%20%20%20%20%20%20%20height%3A%20100.0%25%3B%0A%20%20%20%20%20%20%20%20%20%20%20%20%20%20%20%20%20%20%20%20left%3A%200.0%25%3B%0A%20%20%20%20%20%20%20%20%20%20%20%20%20%20%20%20%20%20%20%20top%3A%200.0%25%3B%0A%20%20%20%20%20%20%20%20%20%20%20%20%20%20%20%20%7D%0A%20%20%20%20%20%20%20%20%20%20%20%20%3C/style%3E%0A%20%20%20%20%20%20%20%20%0A%3C/head%3E%0A%3Cbody%3E%20%20%20%20%0A%20%20%20%20%0A%20%20%20%20%20%20%20%20%20%20%20%20%3Cdiv%20class%3D%22folium-map%22%20id%3D%22map_03882c08293a4cc09536c2e4d78bc3f1%22%20%3E%3C/div%3E%0A%20%20%20%20%20%20%20%20%0A%3C/body%3E%0A%3Cscript%3E%20%20%20%20%0A%20%20%20%20%0A%20%20%20%20%20%20%20%20%20%20%20%20var%20map_03882c08293a4cc09536c2e4d78bc3f1%20%3D%20L.map%28%0A%20%20%20%20%20%20%20%20%20%20%20%20%20%20%20%20%22map_03882c08293a4cc09536c2e4d78bc3f1%22%2C%0A%20%20%20%20%20%20%20%20%20%20%20%20%20%20%20%20%7B%0A%20%20%20%20%20%20%20%20%20%20%20%20%20%20%20%20%20%20%20%20center%3A%20%5B37.234892%2C%20127.043352%5D%2C%0A%20%20%20%20%20%20%20%20%20%20%20%20%20%20%20%20%20%20%20%20crs%3A%20L.CRS.EPSG3857%2C%0A%20%20%20%20%20%20%20%20%20%20%20%20%20%20%20%20%20%20%20%20zoom%3A%2015%2C%0A%20%20%20%20%20%20%20%20%20%20%20%20%20%20%20%20%20%20%20%20zoomControl%3A%20true%2C%0A%20%20%20%20%20%20%20%20%20%20%20%20%20%20%20%20%20%20%20%20preferCanvas%3A%20false%2C%0A%20%20%20%20%20%20%20%20%20%20%20%20%20%20%20%20%7D%0A%20%20%20%20%20%20%20%20%20%20%20%20%29%3B%0A%0A%20%20%20%20%20%20%20%20%20%20%20%20%0A%0A%20%20%20%20%20%20%20%20%0A%20%20%20%20%0A%20%20%20%20%20%20%20%20%20%20%20%20var%20tile_layer_097ee9a9596d47869d37ff692b2c1b81%20%3D%20L.tileLayer%28%0A%20%20%20%20%20%20%20%20%20%20%20%20%20%20%20%20%22https%3A//%7Bs%7D.tile.openstreetmap.org/%7Bz%7D/%7Bx%7D/%7By%7D.png%22%2C%0A%20%20%20%20%20%20%20%20%20%20%20%20%20%20%20%20%7B%22attribution%22%3A%20%22Data%20by%20%5Cu0026copy%3B%20%5Cu003ca%20href%3D%5C%22http%3A//openstreetmap.org%5C%22%5Cu003eOpenStreetMap%5Cu003c/a%5Cu003e%2C%20under%20%5Cu003ca%20href%3D%5C%22http%3A//www.openstreetmap.org/copyright%5C%22%5Cu003eODbL%5Cu003c/a%5Cu003e.%22%2C%20%22detectRetina%22%3A%20false%2C%20%22maxNativeZoom%22%3A%2018%2C%20%22maxZoom%22%3A%2018%2C%20%22minZoom%22%3A%200%2C%20%22noWrap%22%3A%20false%2C%20%22opacity%22%3A%201%2C%20%22subdomains%22%3A%20%22abc%22%2C%20%22tms%22%3A%20false%7D%0A%20%20%20%20%20%20%20%20%20%20%20%20%29.addTo%28map_03882c08293a4cc09536c2e4d78bc3f1%29%3B%0A%20%20%20%20%20%20%20%20%0A%20%20%20%20%0A%20%20%20%20%20%20%20%20%20%20%20%20var%20marker_b933c79b2bc743c5abcb870e5a386fa3%20%3D%20L.marker%28%0A%20%20%20%20%20%20%20%20%20%20%20%20%20%20%20%20%5B37.234892%2C%20127.043352%5D%2C%0A%20%20%20%20%20%20%20%20%20%20%20%20%20%20%20%20%7B%7D%0A%20%20%20%20%20%20%20%20%20%20%20%20%29.addTo%28map_03882c08293a4cc09536c2e4d78bc3f1%29%3B%0A%20%20%20%20%20%20%20%20%0A%20%20%20%20%0A%20%20%20%20%20%20%20%20%20%20%20%20marker_b933c79b2bc743c5abcb870e5a386fa3.bindTooltip%28%0A%20%20%20%20%20%20%20%20%20%20%20%20%20%20%20%20%60%3Cdiv%3E%0A%20%20%20%20%20%20%20%20%20%20%20%20%20%20%20%20%20%20%20%20%20%ED%95%B4%EB%8B%B9%EC%A7%80%EC%A0%90%20%EC%A2%8C%ED%91%9C%0A%20%20%20%20%20%20%20%20%20%20%20%20%20%20%20%20%20%3C/div%3E%60%2C%0A%20%20%20%20%20%20%20%20%20%20%20%20%20%20%20%20%7B%22sticky%22%3A%20true%7D%0A%20%20%20%20%20%20%20%20%20%20%20%20%29%3B%0A%20%20%20%20%20%20%20%20%0A%3C/script%3E onload=\"this.contentDocument.open();this.contentDocument.write(    decodeURIComponent(this.getAttribute('data-html')));this.contentDocument.close();\" allowfullscreen webkitallowfullscreen mozallowfullscreen></iframe></div></div>"
      ],
      "text/plain": [
       "<folium.folium.Map at 0x24155308a00>"
      ]
     },
     "execution_count": 12,
     "metadata": {},
     "output_type": "execute_result"
    }
   ],
   "source": [
    "m = folium.Map([GPS[0]/10**6,GPS[1]/10**6], zoom_start = 15)\n",
    "folium.Marker([GPS[0]/10**6,GPS[1]/10**6],tooltip = '해당지점 좌표').add_to(m)\n",
    "m"
   ]
  },
  {
   "cell_type": "code",
   "execution_count": 52,
   "metadata": {},
   "outputs": [
    {
     "ename": "IndexError",
     "evalue": "index out of range",
     "output_type": "error",
     "traceback": [
      "\u001b[1;31m---------------------------------------------------------------------------\u001b[0m",
      "\u001b[1;31mIndexError\u001b[0m                                Traceback (most recent call last)",
      "\u001b[1;32m<ipython-input-52-41df0002080c>\u001b[0m in \u001b[0;36m<module>\u001b[1;34m\u001b[0m\n\u001b[1;32m----> 1\u001b[1;33m \u001b[0mdata\u001b[0m\u001b[1;33m[\u001b[0m\u001b[1;36m57\u001b[0m\u001b[1;33m]\u001b[0m\u001b[1;33m\u001b[0m\u001b[1;33m\u001b[0m\u001b[0m\n\u001b[0m",
      "\u001b[1;31mIndexError\u001b[0m: index out of range"
     ]
    }
   ],
   "source": [
    "data[57]"
   ]
  },
  {
   "cell_type": "code",
   "execution_count": 82,
   "metadata": {},
   "outputs": [
    {
     "data": {
      "text/plain": [
       "120"
      ]
     },
     "execution_count": 82,
     "metadata": {},
     "output_type": "execute_result"
    }
   ],
   "source": [
    "data[73]"
   ]
  },
  {
   "cell_type": "code",
   "execution_count": 162,
   "metadata": {},
   "outputs": [],
   "source": [
    "Last_Data = open('C:/Users/LEEKEONYONG/Desktop/navigation_backup/3/UserData/Rec/Last.bin', 'rb')\n",
    "data = Last_Data.read()\n",
    "Last_Data.close()"
   ]
  },
  {
   "cell_type": "code",
   "execution_count": null,
   "metadata": {},
   "outputs": [],
   "source": []
  }
 ],
 "metadata": {
  "kernelspec": {
   "display_name": "Python 3",
   "language": "python",
   "name": "python3"
  },
  "language_info": {
   "codemirror_mode": {
    "name": "ipython",
    "version": 3
   },
   "file_extension": ".py",
   "mimetype": "text/x-python",
   "name": "python",
   "nbconvert_exporter": "python",
   "pygments_lexer": "ipython3",
   "version": "3.8.5"
  }
 },
 "nbformat": 4,
 "nbformat_minor": 4
}
